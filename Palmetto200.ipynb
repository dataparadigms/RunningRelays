{
 "metadata": {
  "name": ""
 },
 "nbformat": 3,
 "nbformat_minor": 0,
 "worksheets": [
  {
   "cells": [
    {
     "cell_type": "markdown",
     "metadata": {},
     "source": [
      "The [Palmetto 200](http://www.palmetto200.com) is a running relay event that takes teams of runners from Columbia, SC to James Island, SC.  The course runs through all sorts of rural SC areas, involves A LOT of logistics, and always has good beer at the end. \n",
      "\n",
      "The general premise of a relay event like this generally involves:\n",
      "- 12 runners\n",
      "- 2 vans\n",
      "- No sleep\n",
      "\n",
      "Each runner runs 1 leg,  hands off to the next runner,  rinse and repeat until all 12 runners have run.  This whole event will repeat itself 3 times for a total of 36 legs.  The legs will vary in difficulty and in length much like the running abilities of most teams. \n",
      "\n",
      "This race is an annual event on my calendar and the team I run has a good handle on how it all works thanks to our OCD Captian that keeps us all in-check.  \n",
      "\n",
      "However,  I've always wondered two things: \n",
      "\n",
      "- What is the optimal line up given each runners max number of miles run?\n",
      "- How drastically would our times would vary based on leg assignment?\n"
     ]
    },
    {
     "cell_type": "code",
     "collapsed": false,
     "input": [
      "import itertools as it\n",
      "import pandas as pd\n",
      "import random as rd\n",
      "import numpy as np"
     ],
     "language": "python",
     "metadata": {},
     "outputs": [],
     "prompt_number": 119
    },
    {
     "cell_type": "markdown",
     "metadata": {},
     "source": [
      "Assuming each van has 6 people and the order will stay the same,  each van can be arranged as 6 x 5 x 4 x 3 x 2 x 1 ways or as a permutation of six elements (6!).  There are 720 ways for this to be done and with each van's lineup being independent,  the total number of possible line-ups should be 6! * 6! = 518,400"
     ]
    },
    {
     "cell_type": "code",
     "collapsed": false,
     "input": [
      "van_1 = it.permutations([1,2,3,4,5,6])\n",
      "van_2 = it.permutations([7,8,9,10,11,12])"
     ],
     "language": "python",
     "metadata": {},
     "outputs": [],
     "prompt_number": 10
    },
    {
     "cell_type": "code",
     "collapsed": false,
     "input": [
      "product = list(it.product(van_1,van_2))"
     ],
     "language": "python",
     "metadata": {},
     "outputs": [],
     "prompt_number": 11
    },
    {
     "cell_type": "code",
     "collapsed": false,
     "input": [
      "len(product)"
     ],
     "language": "python",
     "metadata": {},
     "outputs": [
      {
       "metadata": {},
       "output_type": "pyout",
       "prompt_number": 12,
       "text": [
        "518400"
       ]
      }
     ],
     "prompt_number": 12
    },
    {
     "cell_type": "markdown",
     "metadata": {},
     "source": [
      "As each runner runs three times, we need to extend our data structure out such that it encompasses all 36 legs. "
     ]
    },
    {
     "cell_type": "code",
     "collapsed": false,
     "input": [
      "line_up = []\n",
      "\n",
      "for option in product:\n",
      "    full = []\n",
      "    order = [van2 for van1 in option for van2 in van1]\n",
      "    full.extend(order)\n",
      "    full.extend(order)\n",
      "    full.extend(order)\n",
      "    line_up.append(full)"
     ],
     "language": "python",
     "metadata": {},
     "outputs": [],
     "prompt_number": 13
    },
    {
     "cell_type": "markdown",
     "metadata": {},
     "source": [
      "How about some nice column headers?"
     ]
    },
    {
     "cell_type": "code",
     "collapsed": false,
     "input": [
      "legs = list(range(1,37))\n",
      "legs = [\"Leg \" + str(i) for i in legs]"
     ],
     "language": "python",
     "metadata": {},
     "outputs": [],
     "prompt_number": 14
    },
    {
     "cell_type": "code",
     "collapsed": false,
     "input": [
      "df = pd.DataFrame(line_up,columns=legs)"
     ],
     "language": "python",
     "metadata": {},
     "outputs": [],
     "prompt_number": 15
    },
    {
     "cell_type": "code",
     "collapsed": false,
     "input": [
      "df.head()"
     ],
     "language": "python",
     "metadata": {},
     "outputs": [
      {
       "html": [
        "<div style=\"max-height:1000px;max-width:1500px;overflow:auto;\">\n",
        "<table border=\"1\" class=\"dataframe\">\n",
        "  <thead>\n",
        "    <tr style=\"text-align: right;\">\n",
        "      <th></th>\n",
        "      <th>Leg 1</th>\n",
        "      <th>Leg 2</th>\n",
        "      <th>Leg 3</th>\n",
        "      <th>Leg 4</th>\n",
        "      <th>Leg 5</th>\n",
        "      <th>Leg 6</th>\n",
        "      <th>Leg 7</th>\n",
        "      <th>Leg 8</th>\n",
        "      <th>Leg 9</th>\n",
        "      <th>Leg 10</th>\n",
        "      <th>Leg 11</th>\n",
        "      <th>Leg 12</th>\n",
        "      <th>Leg 13</th>\n",
        "      <th>Leg 14</th>\n",
        "      <th>Leg 15</th>\n",
        "      <th>Leg 16</th>\n",
        "      <th>Leg 17</th>\n",
        "      <th>Leg 18</th>\n",
        "      <th>Leg 19</th>\n",
        "      <th>Leg 20</th>\n",
        "      <th></th>\n",
        "    </tr>\n",
        "  </thead>\n",
        "  <tbody>\n",
        "    <tr>\n",
        "      <th>0</th>\n",
        "      <td> 1</td>\n",
        "      <td> 2</td>\n",
        "      <td> 3</td>\n",
        "      <td> 4</td>\n",
        "      <td> 5</td>\n",
        "      <td> 6</td>\n",
        "      <td> 7</td>\n",
        "      <td> 8</td>\n",
        "      <td> 9</td>\n",
        "      <td> 10</td>\n",
        "      <td> 11</td>\n",
        "      <td> 12</td>\n",
        "      <td> 1</td>\n",
        "      <td> 2</td>\n",
        "      <td> 3</td>\n",
        "      <td> 4</td>\n",
        "      <td> 5</td>\n",
        "      <td> 6</td>\n",
        "      <td> 7</td>\n",
        "      <td> 8</td>\n",
        "      <td>...</td>\n",
        "    </tr>\n",
        "    <tr>\n",
        "      <th>1</th>\n",
        "      <td> 1</td>\n",
        "      <td> 2</td>\n",
        "      <td> 3</td>\n",
        "      <td> 4</td>\n",
        "      <td> 5</td>\n",
        "      <td> 6</td>\n",
        "      <td> 7</td>\n",
        "      <td> 8</td>\n",
        "      <td> 9</td>\n",
        "      <td> 10</td>\n",
        "      <td> 12</td>\n",
        "      <td> 11</td>\n",
        "      <td> 1</td>\n",
        "      <td> 2</td>\n",
        "      <td> 3</td>\n",
        "      <td> 4</td>\n",
        "      <td> 5</td>\n",
        "      <td> 6</td>\n",
        "      <td> 7</td>\n",
        "      <td> 8</td>\n",
        "      <td>...</td>\n",
        "    </tr>\n",
        "    <tr>\n",
        "      <th>2</th>\n",
        "      <td> 1</td>\n",
        "      <td> 2</td>\n",
        "      <td> 3</td>\n",
        "      <td> 4</td>\n",
        "      <td> 5</td>\n",
        "      <td> 6</td>\n",
        "      <td> 7</td>\n",
        "      <td> 8</td>\n",
        "      <td> 9</td>\n",
        "      <td> 11</td>\n",
        "      <td> 10</td>\n",
        "      <td> 12</td>\n",
        "      <td> 1</td>\n",
        "      <td> 2</td>\n",
        "      <td> 3</td>\n",
        "      <td> 4</td>\n",
        "      <td> 5</td>\n",
        "      <td> 6</td>\n",
        "      <td> 7</td>\n",
        "      <td> 8</td>\n",
        "      <td>...</td>\n",
        "    </tr>\n",
        "    <tr>\n",
        "      <th>3</th>\n",
        "      <td> 1</td>\n",
        "      <td> 2</td>\n",
        "      <td> 3</td>\n",
        "      <td> 4</td>\n",
        "      <td> 5</td>\n",
        "      <td> 6</td>\n",
        "      <td> 7</td>\n",
        "      <td> 8</td>\n",
        "      <td> 9</td>\n",
        "      <td> 11</td>\n",
        "      <td> 12</td>\n",
        "      <td> 10</td>\n",
        "      <td> 1</td>\n",
        "      <td> 2</td>\n",
        "      <td> 3</td>\n",
        "      <td> 4</td>\n",
        "      <td> 5</td>\n",
        "      <td> 6</td>\n",
        "      <td> 7</td>\n",
        "      <td> 8</td>\n",
        "      <td>...</td>\n",
        "    </tr>\n",
        "    <tr>\n",
        "      <th>4</th>\n",
        "      <td> 1</td>\n",
        "      <td> 2</td>\n",
        "      <td> 3</td>\n",
        "      <td> 4</td>\n",
        "      <td> 5</td>\n",
        "      <td> 6</td>\n",
        "      <td> 7</td>\n",
        "      <td> 8</td>\n",
        "      <td> 9</td>\n",
        "      <td> 12</td>\n",
        "      <td> 10</td>\n",
        "      <td> 11</td>\n",
        "      <td> 1</td>\n",
        "      <td> 2</td>\n",
        "      <td> 3</td>\n",
        "      <td> 4</td>\n",
        "      <td> 5</td>\n",
        "      <td> 6</td>\n",
        "      <td> 7</td>\n",
        "      <td> 8</td>\n",
        "      <td>...</td>\n",
        "    </tr>\n",
        "  </tbody>\n",
        "</table>\n",
        "<p>5 rows \u00d7 36 columns</p>\n",
        "</div>"
       ],
       "metadata": {},
       "output_type": "pyout",
       "prompt_number": 16,
       "text": [
        "   Leg 1  Leg 2  Leg 3  Leg 4  Leg 5  Leg 6  Leg 7  Leg 8  Leg 9  Leg 10  \\\n",
        "0      1      2      3      4      5      6      7      8      9      10   \n",
        "1      1      2      3      4      5      6      7      8      9      10   \n",
        "2      1      2      3      4      5      6      7      8      9      11   \n",
        "3      1      2      3      4      5      6      7      8      9      11   \n",
        "4      1      2      3      4      5      6      7      8      9      12   \n",
        "\n",
        "   Leg 11  Leg 12  Leg 13  Leg 14  Leg 15  Leg 16  Leg 17  Leg 18  Leg 19  \\\n",
        "0      11      12       1       2       3       4       5       6       7   \n",
        "1      12      11       1       2       3       4       5       6       7   \n",
        "2      10      12       1       2       3       4       5       6       7   \n",
        "3      12      10       1       2       3       4       5       6       7   \n",
        "4      10      11       1       2       3       4       5       6       7   \n",
        "\n",
        "   Leg 20      \n",
        "0       8 ...  \n",
        "1       8 ...  \n",
        "2       8 ...  \n",
        "3       8 ...  \n",
        "4       8 ...  \n",
        "\n",
        "[5 rows x 36 columns]"
       ]
      }
     ],
     "prompt_number": 16
    },
    {
     "cell_type": "code",
     "collapsed": false,
     "input": [
      "df.tail()"
     ],
     "language": "python",
     "metadata": {},
     "outputs": [
      {
       "html": [
        "<div style=\"max-height:1000px;max-width:1500px;overflow:auto;\">\n",
        "<table border=\"1\" class=\"dataframe\">\n",
        "  <thead>\n",
        "    <tr style=\"text-align: right;\">\n",
        "      <th></th>\n",
        "      <th>Leg 1</th>\n",
        "      <th>Leg 2</th>\n",
        "      <th>Leg 3</th>\n",
        "      <th>Leg 4</th>\n",
        "      <th>Leg 5</th>\n",
        "      <th>Leg 6</th>\n",
        "      <th>Leg 7</th>\n",
        "      <th>Leg 8</th>\n",
        "      <th>Leg 9</th>\n",
        "      <th>Leg 10</th>\n",
        "      <th>Leg 11</th>\n",
        "      <th>Leg 12</th>\n",
        "      <th>Leg 13</th>\n",
        "      <th>Leg 14</th>\n",
        "      <th>Leg 15</th>\n",
        "      <th>Leg 16</th>\n",
        "      <th>Leg 17</th>\n",
        "      <th>Leg 18</th>\n",
        "      <th>Leg 19</th>\n",
        "      <th>Leg 20</th>\n",
        "      <th></th>\n",
        "    </tr>\n",
        "  </thead>\n",
        "  <tbody>\n",
        "    <tr>\n",
        "      <th>518395</th>\n",
        "      <td> 6</td>\n",
        "      <td> 5</td>\n",
        "      <td> 4</td>\n",
        "      <td> 3</td>\n",
        "      <td> 2</td>\n",
        "      <td> 1</td>\n",
        "      <td> 12</td>\n",
        "      <td> 11</td>\n",
        "      <td> 10</td>\n",
        "      <td> 7</td>\n",
        "      <td> 9</td>\n",
        "      <td> 8</td>\n",
        "      <td> 6</td>\n",
        "      <td> 5</td>\n",
        "      <td> 4</td>\n",
        "      <td> 3</td>\n",
        "      <td> 2</td>\n",
        "      <td> 1</td>\n",
        "      <td> 12</td>\n",
        "      <td> 11</td>\n",
        "      <td>...</td>\n",
        "    </tr>\n",
        "    <tr>\n",
        "      <th>518396</th>\n",
        "      <td> 6</td>\n",
        "      <td> 5</td>\n",
        "      <td> 4</td>\n",
        "      <td> 3</td>\n",
        "      <td> 2</td>\n",
        "      <td> 1</td>\n",
        "      <td> 12</td>\n",
        "      <td> 11</td>\n",
        "      <td> 10</td>\n",
        "      <td> 8</td>\n",
        "      <td> 7</td>\n",
        "      <td> 9</td>\n",
        "      <td> 6</td>\n",
        "      <td> 5</td>\n",
        "      <td> 4</td>\n",
        "      <td> 3</td>\n",
        "      <td> 2</td>\n",
        "      <td> 1</td>\n",
        "      <td> 12</td>\n",
        "      <td> 11</td>\n",
        "      <td>...</td>\n",
        "    </tr>\n",
        "    <tr>\n",
        "      <th>518397</th>\n",
        "      <td> 6</td>\n",
        "      <td> 5</td>\n",
        "      <td> 4</td>\n",
        "      <td> 3</td>\n",
        "      <td> 2</td>\n",
        "      <td> 1</td>\n",
        "      <td> 12</td>\n",
        "      <td> 11</td>\n",
        "      <td> 10</td>\n",
        "      <td> 8</td>\n",
        "      <td> 9</td>\n",
        "      <td> 7</td>\n",
        "      <td> 6</td>\n",
        "      <td> 5</td>\n",
        "      <td> 4</td>\n",
        "      <td> 3</td>\n",
        "      <td> 2</td>\n",
        "      <td> 1</td>\n",
        "      <td> 12</td>\n",
        "      <td> 11</td>\n",
        "      <td>...</td>\n",
        "    </tr>\n",
        "    <tr>\n",
        "      <th>518398</th>\n",
        "      <td> 6</td>\n",
        "      <td> 5</td>\n",
        "      <td> 4</td>\n",
        "      <td> 3</td>\n",
        "      <td> 2</td>\n",
        "      <td> 1</td>\n",
        "      <td> 12</td>\n",
        "      <td> 11</td>\n",
        "      <td> 10</td>\n",
        "      <td> 9</td>\n",
        "      <td> 7</td>\n",
        "      <td> 8</td>\n",
        "      <td> 6</td>\n",
        "      <td> 5</td>\n",
        "      <td> 4</td>\n",
        "      <td> 3</td>\n",
        "      <td> 2</td>\n",
        "      <td> 1</td>\n",
        "      <td> 12</td>\n",
        "      <td> 11</td>\n",
        "      <td>...</td>\n",
        "    </tr>\n",
        "    <tr>\n",
        "      <th>518399</th>\n",
        "      <td> 6</td>\n",
        "      <td> 5</td>\n",
        "      <td> 4</td>\n",
        "      <td> 3</td>\n",
        "      <td> 2</td>\n",
        "      <td> 1</td>\n",
        "      <td> 12</td>\n",
        "      <td> 11</td>\n",
        "      <td> 10</td>\n",
        "      <td> 9</td>\n",
        "      <td> 8</td>\n",
        "      <td> 7</td>\n",
        "      <td> 6</td>\n",
        "      <td> 5</td>\n",
        "      <td> 4</td>\n",
        "      <td> 3</td>\n",
        "      <td> 2</td>\n",
        "      <td> 1</td>\n",
        "      <td> 12</td>\n",
        "      <td> 11</td>\n",
        "      <td>...</td>\n",
        "    </tr>\n",
        "  </tbody>\n",
        "</table>\n",
        "<p>5 rows \u00d7 36 columns</p>\n",
        "</div>"
       ],
       "metadata": {},
       "output_type": "pyout",
       "prompt_number": 17,
       "text": [
        "        Leg 1  Leg 2  Leg 3  Leg 4  Leg 5  Leg 6  Leg 7  Leg 8  Leg 9  Leg 10  \\\n",
        "518395      6      5      4      3      2      1     12     11     10       7   \n",
        "518396      6      5      4      3      2      1     12     11     10       8   \n",
        "518397      6      5      4      3      2      1     12     11     10       8   \n",
        "518398      6      5      4      3      2      1     12     11     10       9   \n",
        "518399      6      5      4      3      2      1     12     11     10       9   \n",
        "\n",
        "        Leg 11  Leg 12  Leg 13  Leg 14  Leg 15  Leg 16  Leg 17  Leg 18  \\\n",
        "518395       9       8       6       5       4       3       2       1   \n",
        "518396       7       9       6       5       4       3       2       1   \n",
        "518397       9       7       6       5       4       3       2       1   \n",
        "518398       7       8       6       5       4       3       2       1   \n",
        "518399       8       7       6       5       4       3       2       1   \n",
        "\n",
        "        Leg 19  Leg 20      \n",
        "518395      12      11 ...  \n",
        "518396      12      11 ...  \n",
        "518397      12      11 ...  \n",
        "518398      12      11 ...  \n",
        "518399      12      11 ...  \n",
        "\n",
        "[5 rows x 36 columns]"
       ]
      }
     ],
     "prompt_number": 17
    },
    {
     "cell_type": "markdown",
     "metadata": {},
     "source": [
      "Each runner on the team has some maximum number of miles that they are interested in running. Any possible combination of line ups (rows) that exceeds this needs to be removed from our data frame. \n",
      "\n",
      "The current Palmetto 200 race course has the following leg lengths"
     ]
    },
    {
     "cell_type": "code",
     "collapsed": false,
     "input": [
      "leg_length = [4.22, 5.91, 9.26, 2.60, 6.27, 7.99, 1.69, 5.55, 4.54,\\\n",
      "              3.84, 6.61, 7.40, 4.20, 5.49, 8.83, 5.64, 2.43, 9.67,\\\n",
      "              3.75, 9.75, 5.60, 3.69, 3.84, 2.32, 8.91, 3.75, 7.47,\\\n",
      "              7.47, 4.64, 6.54, 5.67, 2.96, 4.30, 3.10, 6.42, 6.66]"
     ],
     "language": "python",
     "metadata": {},
     "outputs": [],
     "prompt_number": 18
    },
    {
     "cell_type": "markdown",
     "metadata": {},
     "source": [
      "Our sample team has the following mile constraints by runner: \n",
      "\n",
      "1. 14 miles\n",
      "2. 16 miles\n",
      "3. 18 miles\n",
      "4. 20 miles\n",
      "5. 14 miles\n",
      "6. 18 miles\n",
      "7. 17 miles\n",
      "8. 17 miles\n",
      "9. 23 miles\n",
      "10. 24 miles\n",
      "11. 12 miles\n",
      "12. 16 miles"
     ]
    },
    {
     "cell_type": "code",
     "collapsed": false,
     "input": [
      "runner_maxes = [14, 16, 18, 20, 14, 18, 17, 17, 23, 24, 12, 16]"
     ],
     "language": "python",
     "metadata": {},
     "outputs": [],
     "prompt_number": 132
    },
    {
     "cell_type": "markdown",
     "metadata": {},
     "source": [
      "For each line up (row) we need to find out if any runner is exceeding their max miles"
     ]
    },
    {
     "cell_type": "code",
     "collapsed": false,
     "input": [
      "((df.iloc[[1]] == 1) * leg_length).sum(1) <= runner_maxes[1]"
     ],
     "language": "python",
     "metadata": {},
     "outputs": [
      {
       "metadata": {},
       "output_type": "pyout",
       "prompt_number": 23,
       "text": [
        "1    False\n",
        "dtype: bool"
       ]
      }
     ],
     "prompt_number": 23
    },
    {
     "cell_type": "markdown",
     "metadata": {},
     "source": [
      "We can generate a function that will find the total sum of a runner in a single row and then apply this to the entire dataframe. *i* will be the runner number. "
     ]
    },
    {
     "cell_type": "code",
     "collapsed": false,
     "input": [
      "runner_miles = lambda x: ((x == i) * leg_length).sum(1) "
     ],
     "language": "python",
     "metadata": {},
     "outputs": [],
     "prompt_number": 25
    },
    {
     "cell_type": "markdown",
     "metadata": {},
     "source": [
      "A new DataFrame is needed to store the sums for each runner or else the apply function will go haywire once we generate the first column of runner sums. "
     ]
    },
    {
     "cell_type": "code",
     "collapsed": false,
     "input": [
      "runner_totals = pd.DataFrame()"
     ],
     "language": "python",
     "metadata": {},
     "outputs": [],
     "prompt_number": 26
    },
    {
     "cell_type": "markdown",
     "metadata": {},
     "source": [
      "A loop is need to iterate over the runner numbers (1 to 12). Because we're looking for the actual runner numbers AND not the index in the array,  our range will start at 1 and go to 13 giving us 1 <= x < 13 using the `range` function.\n",
      "\n",
      "This could probably be optimized but I wanted to capture total miles each person would have to run.\n",
      "\n",
      "Note: It prints the col_name just so I have an idea of where in the processing it is.  This step is SLOW on my Macbook Air."
     ]
    },
    {
     "cell_type": "code",
     "collapsed": false,
     "input": [
      " for i in range(1,13):\n",
      "    col_name = 'Runner ' + str(i)\n",
      "    print(col_name)\n",
      "    runner_totals[col_name] = loop_df.apply(lambda x: ((x == i) * leg_length).sum(1), axis=1)"
     ],
     "language": "python",
     "metadata": {},
     "outputs": [
      {
       "output_type": "stream",
       "stream": "stdout",
       "text": [
        "Runner 1\n",
        "Runner 2"
       ]
      },
      {
       "output_type": "stream",
       "stream": "stdout",
       "text": [
        "\n",
        "Runner 3"
       ]
      },
      {
       "output_type": "stream",
       "stream": "stdout",
       "text": [
        "\n",
        "Runner 4"
       ]
      },
      {
       "output_type": "stream",
       "stream": "stdout",
       "text": [
        "\n",
        "Runner 5"
       ]
      },
      {
       "output_type": "stream",
       "stream": "stdout",
       "text": [
        "\n",
        "Runner 6"
       ]
      },
      {
       "output_type": "stream",
       "stream": "stdout",
       "text": [
        "\n",
        "Runner 7"
       ]
      },
      {
       "output_type": "stream",
       "stream": "stdout",
       "text": [
        "\n",
        "Runner 8"
       ]
      },
      {
       "output_type": "stream",
       "stream": "stdout",
       "text": [
        "\n",
        "Runner 9"
       ]
      },
      {
       "output_type": "stream",
       "stream": "stdout",
       "text": [
        "\n",
        "Runner 10"
       ]
      },
      {
       "output_type": "stream",
       "stream": "stdout",
       "text": [
        "\n",
        "Runner 11"
       ]
      },
      {
       "output_type": "stream",
       "stream": "stdout",
       "text": [
        "\n",
        "Runner 12"
       ]
      },
      {
       "output_type": "stream",
       "stream": "stdout",
       "text": [
        "\n"
       ]
      }
     ],
     "prompt_number": 65
    },
    {
     "cell_type": "code",
     "collapsed": false,
     "input": [
      "runner_totals.head()"
     ],
     "language": "python",
     "metadata": {},
     "outputs": [
      {
       "html": [
        "<div style=\"max-height:1000px;max-width:1500px;overflow:auto;\">\n",
        "<table border=\"1\" class=\"dataframe\">\n",
        "  <thead>\n",
        "    <tr style=\"text-align: right;\">\n",
        "      <th></th>\n",
        "      <th>Runner 1</th>\n",
        "      <th>Runner 2</th>\n",
        "      <th>Runner 3</th>\n",
        "      <th>Runner 4</th>\n",
        "      <th>Runner 5</th>\n",
        "      <th>Runner 6</th>\n",
        "      <th>Runner 7</th>\n",
        "      <th>Runner 8</th>\n",
        "      <th>Runner 9</th>\n",
        "      <th>Runner 10</th>\n",
        "      <th>Runner 11</th>\n",
        "      <th>Runner 12</th>\n",
        "    </tr>\n",
        "  </thead>\n",
        "  <tbody>\n",
        "    <tr>\n",
        "      <th>0</th>\n",
        "      <td> 17.33</td>\n",
        "      <td> 15.15</td>\n",
        "      <td> 25.56</td>\n",
        "      <td> 15.71</td>\n",
        "      <td> 13.34</td>\n",
        "      <td> 24.2</td>\n",
        "      <td> 11.11</td>\n",
        "      <td> 18.26</td>\n",
        "      <td> 14.44</td>\n",
        "      <td> 10.63</td>\n",
        "      <td> 16.87</td>\n",
        "      <td> 16.38</td>\n",
        "    </tr>\n",
        "    <tr>\n",
        "      <th>1</th>\n",
        "      <td> 17.33</td>\n",
        "      <td> 15.15</td>\n",
        "      <td> 25.56</td>\n",
        "      <td> 15.71</td>\n",
        "      <td> 13.34</td>\n",
        "      <td> 24.2</td>\n",
        "      <td> 11.11</td>\n",
        "      <td> 18.26</td>\n",
        "      <td> 14.44</td>\n",
        "      <td> 10.63</td>\n",
        "      <td> 16.38</td>\n",
        "      <td> 16.87</td>\n",
        "    </tr>\n",
        "    <tr>\n",
        "      <th>2</th>\n",
        "      <td> 17.33</td>\n",
        "      <td> 15.15</td>\n",
        "      <td> 25.56</td>\n",
        "      <td> 15.71</td>\n",
        "      <td> 13.34</td>\n",
        "      <td> 24.2</td>\n",
        "      <td> 11.11</td>\n",
        "      <td> 18.26</td>\n",
        "      <td> 14.44</td>\n",
        "      <td> 16.87</td>\n",
        "      <td> 10.63</td>\n",
        "      <td> 16.38</td>\n",
        "    </tr>\n",
        "    <tr>\n",
        "      <th>3</th>\n",
        "      <td> 17.33</td>\n",
        "      <td> 15.15</td>\n",
        "      <td> 25.56</td>\n",
        "      <td> 15.71</td>\n",
        "      <td> 13.34</td>\n",
        "      <td> 24.2</td>\n",
        "      <td> 11.11</td>\n",
        "      <td> 18.26</td>\n",
        "      <td> 14.44</td>\n",
        "      <td> 16.38</td>\n",
        "      <td> 10.63</td>\n",
        "      <td> 16.87</td>\n",
        "    </tr>\n",
        "    <tr>\n",
        "      <th>4</th>\n",
        "      <td> 17.33</td>\n",
        "      <td> 15.15</td>\n",
        "      <td> 25.56</td>\n",
        "      <td> 15.71</td>\n",
        "      <td> 13.34</td>\n",
        "      <td> 24.2</td>\n",
        "      <td> 11.11</td>\n",
        "      <td> 18.26</td>\n",
        "      <td> 14.44</td>\n",
        "      <td> 16.87</td>\n",
        "      <td> 16.38</td>\n",
        "      <td> 10.63</td>\n",
        "    </tr>\n",
        "  </tbody>\n",
        "</table>\n",
        "<p>5 rows \u00d7 12 columns</p>\n",
        "</div>"
       ],
       "metadata": {},
       "output_type": "pyout",
       "prompt_number": 69,
       "text": [
        "   Runner 1  Runner 2  Runner 3  Runner 4  Runner 5  Runner 6  Runner 7  \\\n",
        "0     17.33     15.15     25.56     15.71     13.34      24.2     11.11   \n",
        "1     17.33     15.15     25.56     15.71     13.34      24.2     11.11   \n",
        "2     17.33     15.15     25.56     15.71     13.34      24.2     11.11   \n",
        "3     17.33     15.15     25.56     15.71     13.34      24.2     11.11   \n",
        "4     17.33     15.15     25.56     15.71     13.34      24.2     11.11   \n",
        "\n",
        "   Runner 8  Runner 9  Runner 10  Runner 11  Runner 12  \n",
        "0     18.26     14.44      10.63      16.87      16.38  \n",
        "1     18.26     14.44      10.63      16.38      16.87  \n",
        "2     18.26     14.44      16.87      10.63      16.38  \n",
        "3     18.26     14.44      16.38      10.63      16.87  \n",
        "4     18.26     14.44      16.87      16.38      10.63  \n",
        "\n",
        "[5 rows x 12 columns]"
       ]
      }
     ],
     "prompt_number": 69
    },
    {
     "cell_type": "markdown",
     "metadata": {},
     "source": [
      "Now that we have each runner's total, we need to drop rows all the for which the minimum number of miles run is greater than the runner's maximum."
     ]
    },
    {
     "cell_type": "code",
     "collapsed": false,
     "input": [
      "runner_totals.min() > runner_maxes"
     ],
     "language": "python",
     "metadata": {},
     "outputs": [
      {
       "metadata": {},
       "output_type": "pyout",
       "prompt_number": 111,
       "text": [
        "Runner 1     False\n",
        "Runner 2     False\n",
        "Runner 3     False\n",
        "Runner 4     False\n",
        "Runner 5     False\n",
        "Runner 6     False\n",
        "Runner 7     False\n",
        "Runner 8     False\n",
        "Runner 9     False\n",
        "Runner 10    False\n",
        "Runner 11    False\n",
        "Runner 12    False\n",
        "dtype: bool"
       ]
      }
     ],
     "prompt_number": 111
    },
    {
     "cell_type": "markdown",
     "metadata": {},
     "source": [
      "All is well,  no rows to drop.  We know how that for every runner,  at least one running order has them running an acceptable number of miles.  It **DOES NOT** mean that there is one arrangement for which all 12 runners are running fewer than their max. \n",
      "\n",
      "Likewise,  we now need iterate over the entire data frame of possible distances to determine which arrangements ensure work for all 12 runners. "
     ]
    },
    {
     "cell_type": "code",
     "collapsed": false,
     "input": [
      "allowable = (runner_totals.apply(lambda x: x <= runner_maxes, axis = 1) * 1).sum(axis = 1)"
     ],
     "language": "python",
     "metadata": {},
     "outputs": [],
     "prompt_number": 133
    },
    {
     "cell_type": "code",
     "collapsed": false,
     "input": [
      "allowable.describe()"
     ],
     "language": "python",
     "metadata": {},
     "outputs": [
      {
       "metadata": {},
       "output_type": "pyout",
       "prompt_number": 134,
       "text": [
        "count    518400.000000\n",
        "mean          7.333333\n",
        "std           0.994430\n",
        "min           4.000000\n",
        "25%           7.000000\n",
        "50%           7.000000\n",
        "75%           8.000000\n",
        "max          10.000000\n",
        "dtype: float64"
       ]
      }
     ],
     "prompt_number": 134
    },
    {
     "cell_type": "markdown",
     "metadata": {},
     "source": [
      "It looks like the best case scenario for the current order of runners (defined by their max miles),  will only allow for 10 of the 12 runners to be underneath their max. "
     ]
    },
    {
     "cell_type": "code",
     "collapsed": false,
     "input": [
      "runner_maxes"
     ],
     "language": "python",
     "metadata": {},
     "outputs": [
      {
       "metadata": {},
       "output_type": "pyout",
       "prompt_number": 125,
       "text": [
        "[14, 16, 18, 20, 14, 18, 17, 17, 23, 24, 12, 16]"
       ]
      }
     ],
     "prompt_number": 125
    },
    {
     "cell_type": "markdown",
     "metadata": {},
     "source": [
      "Time to do the shuffle!"
     ]
    },
    {
     "cell_type": "code",
     "collapsed": false,
     "input": [
      "rd.shuffle(runner_maxes)"
     ],
     "language": "python",
     "metadata": {},
     "outputs": [],
     "prompt_number": 126
    },
    {
     "cell_type": "code",
     "collapsed": false,
     "input": [
      "runner_maxes"
     ],
     "language": "python",
     "metadata": {},
     "outputs": [
      {
       "metadata": {},
       "output_type": "pyout",
       "prompt_number": 127,
       "text": [
        "[14, 17, 14, 17, 12, 20, 23, 24, 18, 18, 16, 16]"
       ]
      }
     ],
     "prompt_number": 127
    },
    {
     "cell_type": "code",
     "collapsed": false,
     "input": [
      "allowable = (runner_totals.apply(lambda x: x <= runner_maxes, axis = 1) * 1).sum(axis = 1)"
     ],
     "language": "python",
     "metadata": {},
     "outputs": [],
     "prompt_number": 128
    },
    {
     "cell_type": "code",
     "collapsed": false,
     "input": [
      "allowable.describe()"
     ],
     "language": "python",
     "metadata": {},
     "outputs": [
      {
       "metadata": {},
       "output_type": "pyout",
       "prompt_number": 131,
       "text": [
        "count    518400.000000\n",
        "mean          6.666667\n",
        "std           1.011051\n",
        "min           3.000000\n",
        "25%           6.000000\n",
        "50%           7.000000\n",
        "75%           7.000000\n",
        "max          10.000000\n",
        "dtype: float64"
       ]
      }
     ],
     "prompt_number": 131
    },
    {
     "cell_type": "markdown",
     "metadata": {},
     "source": [
      "Still not any good,  we would rinse and repeat over and over again with a purely random shuffle.  However,  it would make more sense to do a non-random assignment and for each arrangement.\n",
      "\n",
      "- find the fewest miles run\n",
      "- assign that to the lowest runner max\n",
      "- repeat until all 12 have been assigned or until no runner max > the length element"
     ]
    }
   ],
   "metadata": {}
  }
 ]
}